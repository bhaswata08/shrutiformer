{
 "cells": [
  {
   "cell_type": "code",
   "execution_count": 3,
   "metadata": {},
   "outputs": [
    {
     "name": "stdout",
     "output_type": "stream",
     "text": [
      "['Participating in the International Climate Conference in Geneva, the UN Secretary-General stressed the urgent need for global cooperation to develop sustainable energy solutions and move away from fossil fuels, highlighting that international cooperation on research and knowledge-sharing is vital to tackle this complex challenge and ensure a cleaner future for all.']\n"
     ]
    }
   ],
   "source": [
    "from translation_engine import translate_sentences\n",
    "input_sentences = ['जिनेवा में अंतर्राष्ट्रीय जलवायु सम्मेलन में भाग लेते हुए, संयुक्त राष्ट्र महासचिव ने सतत ऊर्जा समाधान विकसित करने और जीवाश्म ईंधन से दूर जाने के लिए वैश्विक सहयोग की तत्काल आवश्यकता पर जोर दिया, इस बात पर प्रकाश डालते हुए कि इस जटिल चुनौती से निपटने और सभी के लिए एक स्वच्छ भविष्य सुनिश्चित करने के लिए अनुसंधान और ज्ञान-साझाकरण पर अंतर्राष्ट्रीय सहयोग महत्वपूर्ण है।']\n",
    "ckpt_dir = \"indictrans2-en-indic-1B\"\n",
    "translations = translate_sentences(input_sentences,\n",
    "                                   direction = \"indic-en\",\n",
    "                                   src_lang = \"hin_Deva\",\n",
    "                                   tgt_lang = \"eng_Latn\",)\n",
    "print(translations)"
   ]
  }
 ],
 "metadata": {
  "kernelspec": {
   "display_name": "llm",
   "language": "python",
   "name": "python3"
  },
  "language_info": {
   "codemirror_mode": {
    "name": "ipython",
    "version": 3
   },
   "file_extension": ".py",
   "mimetype": "text/x-python",
   "name": "python",
   "nbconvert_exporter": "python",
   "pygments_lexer": "ipython3",
   "version": "3.11.8"
  }
 },
 "nbformat": 4,
 "nbformat_minor": 2
}
